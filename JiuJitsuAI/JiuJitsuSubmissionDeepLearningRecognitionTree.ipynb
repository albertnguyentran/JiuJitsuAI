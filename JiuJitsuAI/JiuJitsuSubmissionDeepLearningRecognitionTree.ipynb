{
 "cells": [
  {
   "cell_type": "markdown",
   "id": "85e8f28b-94ba-45cc-a623-a20c12e86673",
   "metadata": {},
   "source": [
    "# Introduction"
   ]
  },
  {
   "cell_type": "markdown",
   "id": "51d17dac-7001-4afb-8522-b8a80eed2357",
   "metadata": {},
   "source": [
    "## About"
   ]
  },
  {
   "cell_type": "markdown",
   "id": "cbe5babc-7aad-4bb5-9ea9-a875754902cd",
   "metadata": {},
   "source": [
    "Image classifier that recognizes different grappling positions and predicts future outcomes! Uses a sequential neural network trained on a dataset of Brazilian Jiu Jitsu mounts/guards/submissions/areas of control to label the most resembled situation and a decision tree map to return the k-closest neighbours"
   ]
  }
 ],
 "metadata": {
  "kernelspec": {
   "display_name": "Python 3 (ipykernel)",
   "language": "python",
   "name": "python3"
  },
  "language_info": {
   "codemirror_mode": {
    "name": "ipython",
    "version": 3
   },
   "file_extension": ".py",
   "mimetype": "text/x-python",
   "name": "python",
   "nbconvert_exporter": "python",
   "pygments_lexer": "ipython3",
   "version": "3.9.13"
  }
 },
 "nbformat": 4,
 "nbformat_minor": 5
}
